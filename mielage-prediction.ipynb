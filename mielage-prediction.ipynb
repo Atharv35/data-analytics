{
 "cells": [
  {
   "cell_type": "code",
   "execution_count": 1,
   "id": "12944bd7",
   "metadata": {
    "_cell_guid": "b1076dfc-b9ad-4769-8c92-a6c4dae69d19",
    "_uuid": "8f2839f25d086af736a60e9eeb907d3b93b6e0e5",
    "execution": {
     "iopub.execute_input": "2023-09-08T14:22:31.487544Z",
     "iopub.status.busy": "2023-09-08T14:22:31.486701Z",
     "iopub.status.idle": "2023-09-08T14:22:31.501801Z",
     "shell.execute_reply": "2023-09-08T14:22:31.500932Z"
    },
    "papermill": {
     "duration": 0.041445,
     "end_time": "2023-09-08T14:22:31.504313",
     "exception": false,
     "start_time": "2023-09-08T14:22:31.462868",
     "status": "completed"
    },
    "tags": []
   },
   "outputs": [],
   "source": [
    "import pandas as pd"
   ]
  },
  {
   "cell_type": "code",
   "execution_count": 2,
   "id": "cb95075f",
   "metadata": {
    "execution": {
     "iopub.execute_input": "2023-09-08T14:22:31.542064Z",
     "iopub.status.busy": "2023-09-08T14:22:31.541458Z",
     "iopub.status.idle": "2023-09-08T14:22:31.546707Z",
     "shell.execute_reply": "2023-09-08T14:22:31.545855Z"
    },
    "papermill": {
     "duration": 0.026648,
     "end_time": "2023-09-08T14:22:31.548942",
     "exception": false,
     "start_time": "2023-09-08T14:22:31.522294",
     "status": "completed"
    },
    "tags": []
   },
   "outputs": [],
   "source": [
    "import numpy as np"
   ]
  },
  {
   "cell_type": "code",
   "execution_count": 3,
   "id": "e7a18b3f",
   "metadata": {
    "execution": {
     "iopub.execute_input": "2023-09-08T14:22:31.586442Z",
     "iopub.status.busy": "2023-09-08T14:22:31.585791Z",
     "iopub.status.idle": "2023-09-08T14:22:31.590725Z",
     "shell.execute_reply": "2023-09-08T14:22:31.589785Z"
    },
    "papermill": {
     "duration": 0.026567,
     "end_time": "2023-09-08T14:22:31.592925",
     "exception": false,
     "start_time": "2023-09-08T14:22:31.566358",
     "status": "completed"
    },
    "tags": []
   },
   "outputs": [],
   "source": [
    "import matplotlib.pyplot as plt"
   ]
  },
  {
   "cell_type": "code",
   "execution_count": 4,
   "id": "8f954509",
   "metadata": {
    "execution": {
     "iopub.execute_input": "2023-09-08T14:22:31.631904Z",
     "iopub.status.busy": "2023-09-08T14:22:31.631299Z",
     "iopub.status.idle": "2023-09-08T14:22:33.303385Z",
     "shell.execute_reply": "2023-09-08T14:22:33.302438Z"
    },
    "papermill": {
     "duration": 1.69552,
     "end_time": "2023-09-08T14:22:33.306105",
     "exception": false,
     "start_time": "2023-09-08T14:22:31.610585",
     "status": "completed"
    },
    "tags": []
   },
   "outputs": [
    {
     "name": "stderr",
     "output_type": "stream",
     "text": [
      "/opt/conda/lib/python3.10/site-packages/scipy/__init__.py:146: UserWarning: A NumPy version >=1.16.5 and <1.23.0 is required for this version of SciPy (detected version 1.23.5\n",
      "  warnings.warn(f\"A NumPy version >={np_minversion} and <{np_maxversion}\"\n"
     ]
    }
   ],
   "source": [
    "import seaborn as sns"
   ]
  },
  {
   "cell_type": "code",
   "execution_count": 5,
   "id": "f4e701ac",
   "metadata": {
    "execution": {
     "iopub.execute_input": "2023-09-08T14:22:33.344977Z",
     "iopub.status.busy": "2023-09-08T14:22:33.343754Z",
     "iopub.status.idle": "2023-09-08T14:22:33.803035Z",
     "shell.execute_reply": "2023-09-08T14:22:33.801762Z"
    },
    "papermill": {
     "duration": 0.482224,
     "end_time": "2023-09-08T14:22:33.806316",
     "exception": false,
     "start_time": "2023-09-08T14:22:33.324092",
     "status": "completed"
    },
    "tags": []
   },
   "outputs": [],
   "source": [
    "df=pd.read_csv(\"https://github.com/YBIFoundation/Dataset/raw/main/MPG.csv\")"
   ]
  },
  {
   "cell_type": "code",
   "execution_count": 6,
   "id": "b9b9d25f",
   "metadata": {
    "execution": {
     "iopub.execute_input": "2023-09-08T14:22:33.845585Z",
     "iopub.status.busy": "2023-09-08T14:22:33.844845Z",
     "iopub.status.idle": "2023-09-08T14:22:33.875946Z",
     "shell.execute_reply": "2023-09-08T14:22:33.874506Z"
    },
    "papermill": {
     "duration": 0.05394,
     "end_time": "2023-09-08T14:22:33.878643",
     "exception": false,
     "start_time": "2023-09-08T14:22:33.824703",
     "status": "completed"
    },
    "tags": []
   },
   "outputs": [
    {
     "data": {
      "text/html": [
       "<div>\n",
       "<style scoped>\n",
       "    .dataframe tbody tr th:only-of-type {\n",
       "        vertical-align: middle;\n",
       "    }\n",
       "\n",
       "    .dataframe tbody tr th {\n",
       "        vertical-align: top;\n",
       "    }\n",
       "\n",
       "    .dataframe thead th {\n",
       "        text-align: right;\n",
       "    }\n",
       "</style>\n",
       "<table border=\"1\" class=\"dataframe\">\n",
       "  <thead>\n",
       "    <tr style=\"text-align: right;\">\n",
       "      <th></th>\n",
       "      <th>mpg</th>\n",
       "      <th>cylinders</th>\n",
       "      <th>displacement</th>\n",
       "      <th>horsepower</th>\n",
       "      <th>weight</th>\n",
       "      <th>acceleration</th>\n",
       "      <th>model_year</th>\n",
       "      <th>origin</th>\n",
       "      <th>name</th>\n",
       "    </tr>\n",
       "  </thead>\n",
       "  <tbody>\n",
       "    <tr>\n",
       "      <th>0</th>\n",
       "      <td>18.0</td>\n",
       "      <td>8</td>\n",
       "      <td>307.0</td>\n",
       "      <td>130.0</td>\n",
       "      <td>3504</td>\n",
       "      <td>12.0</td>\n",
       "      <td>70</td>\n",
       "      <td>usa</td>\n",
       "      <td>chevrolet chevelle malibu</td>\n",
       "    </tr>\n",
       "    <tr>\n",
       "      <th>1</th>\n",
       "      <td>15.0</td>\n",
       "      <td>8</td>\n",
       "      <td>350.0</td>\n",
       "      <td>165.0</td>\n",
       "      <td>3693</td>\n",
       "      <td>11.5</td>\n",
       "      <td>70</td>\n",
       "      <td>usa</td>\n",
       "      <td>buick skylark 320</td>\n",
       "    </tr>\n",
       "    <tr>\n",
       "      <th>2</th>\n",
       "      <td>18.0</td>\n",
       "      <td>8</td>\n",
       "      <td>318.0</td>\n",
       "      <td>150.0</td>\n",
       "      <td>3436</td>\n",
       "      <td>11.0</td>\n",
       "      <td>70</td>\n",
       "      <td>usa</td>\n",
       "      <td>plymouth satellite</td>\n",
       "    </tr>\n",
       "    <tr>\n",
       "      <th>3</th>\n",
       "      <td>16.0</td>\n",
       "      <td>8</td>\n",
       "      <td>304.0</td>\n",
       "      <td>150.0</td>\n",
       "      <td>3433</td>\n",
       "      <td>12.0</td>\n",
       "      <td>70</td>\n",
       "      <td>usa</td>\n",
       "      <td>amc rebel sst</td>\n",
       "    </tr>\n",
       "    <tr>\n",
       "      <th>4</th>\n",
       "      <td>17.0</td>\n",
       "      <td>8</td>\n",
       "      <td>302.0</td>\n",
       "      <td>140.0</td>\n",
       "      <td>3449</td>\n",
       "      <td>10.5</td>\n",
       "      <td>70</td>\n",
       "      <td>usa</td>\n",
       "      <td>ford torino</td>\n",
       "    </tr>\n",
       "  </tbody>\n",
       "</table>\n",
       "</div>"
      ],
      "text/plain": [
       "    mpg  cylinders  displacement  horsepower  weight  acceleration  \\\n",
       "0  18.0          8         307.0       130.0    3504          12.0   \n",
       "1  15.0          8         350.0       165.0    3693          11.5   \n",
       "2  18.0          8         318.0       150.0    3436          11.0   \n",
       "3  16.0          8         304.0       150.0    3433          12.0   \n",
       "4  17.0          8         302.0       140.0    3449          10.5   \n",
       "\n",
       "   model_year origin                       name  \n",
       "0          70    usa  chevrolet chevelle malibu  \n",
       "1          70    usa          buick skylark 320  \n",
       "2          70    usa         plymouth satellite  \n",
       "3          70    usa              amc rebel sst  \n",
       "4          70    usa                ford torino  "
      ]
     },
     "execution_count": 6,
     "metadata": {},
     "output_type": "execute_result"
    }
   ],
   "source": [
    "df.head()"
   ]
  },
  {
   "cell_type": "code",
   "execution_count": 7,
   "id": "a7257996",
   "metadata": {
    "execution": {
     "iopub.execute_input": "2023-09-08T14:22:33.918885Z",
     "iopub.status.busy": "2023-09-08T14:22:33.918381Z",
     "iopub.status.idle": "2023-09-08T14:22:33.936367Z",
     "shell.execute_reply": "2023-09-08T14:22:33.935429Z"
    },
    "papermill": {
     "duration": 0.041192,
     "end_time": "2023-09-08T14:22:33.938785",
     "exception": false,
     "start_time": "2023-09-08T14:22:33.897593",
     "status": "completed"
    },
    "tags": []
   },
   "outputs": [
    {
     "data": {
      "text/plain": [
       "mpg             129\n",
       "cylinders         5\n",
       "displacement     82\n",
       "horsepower       93\n",
       "weight          351\n",
       "acceleration     95\n",
       "model_year       13\n",
       "origin            3\n",
       "name            305\n",
       "dtype: int64"
      ]
     },
     "execution_count": 7,
     "metadata": {},
     "output_type": "execute_result"
    }
   ],
   "source": [
    "df.nunique()"
   ]
  },
  {
   "cell_type": "code",
   "execution_count": 8,
   "id": "c36b2519",
   "metadata": {
    "execution": {
     "iopub.execute_input": "2023-09-08T14:22:33.980203Z",
     "iopub.status.busy": "2023-09-08T14:22:33.979408Z",
     "iopub.status.idle": "2023-09-08T14:22:34.004032Z",
     "shell.execute_reply": "2023-09-08T14:22:34.002244Z"
    },
    "papermill": {
     "duration": 0.047922,
     "end_time": "2023-09-08T14:22:34.007072",
     "exception": false,
     "start_time": "2023-09-08T14:22:33.959150",
     "status": "completed"
    },
    "tags": []
   },
   "outputs": [
    {
     "name": "stdout",
     "output_type": "stream",
     "text": [
      "<class 'pandas.core.frame.DataFrame'>\n",
      "RangeIndex: 398 entries, 0 to 397\n",
      "Data columns (total 9 columns):\n",
      " #   Column        Non-Null Count  Dtype  \n",
      "---  ------        --------------  -----  \n",
      " 0   mpg           398 non-null    float64\n",
      " 1   cylinders     398 non-null    int64  \n",
      " 2   displacement  398 non-null    float64\n",
      " 3   horsepower    392 non-null    float64\n",
      " 4   weight        398 non-null    int64  \n",
      " 5   acceleration  398 non-null    float64\n",
      " 6   model_year    398 non-null    int64  \n",
      " 7   origin        398 non-null    object \n",
      " 8   name          398 non-null    object \n",
      "dtypes: float64(4), int64(3), object(2)\n",
      "memory usage: 28.1+ KB\n"
     ]
    }
   ],
   "source": [
    "df.info()"
   ]
  },
  {
   "cell_type": "code",
   "execution_count": 9,
   "id": "56916b70",
   "metadata": {
    "execution": {
     "iopub.execute_input": "2023-09-08T14:22:34.045699Z",
     "iopub.status.busy": "2023-09-08T14:22:34.045299Z",
     "iopub.status.idle": "2023-09-08T14:22:34.087773Z",
     "shell.execute_reply": "2023-09-08T14:22:34.086307Z"
    },
    "papermill": {
     "duration": 0.065224,
     "end_time": "2023-09-08T14:22:34.090687",
     "exception": false,
     "start_time": "2023-09-08T14:22:34.025463",
     "status": "completed"
    },
    "tags": []
   },
   "outputs": [
    {
     "data": {
      "text/html": [
       "<div>\n",
       "<style scoped>\n",
       "    .dataframe tbody tr th:only-of-type {\n",
       "        vertical-align: middle;\n",
       "    }\n",
       "\n",
       "    .dataframe tbody tr th {\n",
       "        vertical-align: top;\n",
       "    }\n",
       "\n",
       "    .dataframe thead th {\n",
       "        text-align: right;\n",
       "    }\n",
       "</style>\n",
       "<table border=\"1\" class=\"dataframe\">\n",
       "  <thead>\n",
       "    <tr style=\"text-align: right;\">\n",
       "      <th></th>\n",
       "      <th>mpg</th>\n",
       "      <th>cylinders</th>\n",
       "      <th>displacement</th>\n",
       "      <th>horsepower</th>\n",
       "      <th>weight</th>\n",
       "      <th>acceleration</th>\n",
       "      <th>model_year</th>\n",
       "    </tr>\n",
       "  </thead>\n",
       "  <tbody>\n",
       "    <tr>\n",
       "      <th>count</th>\n",
       "      <td>398.000000</td>\n",
       "      <td>398.000000</td>\n",
       "      <td>398.000000</td>\n",
       "      <td>392.000000</td>\n",
       "      <td>398.000000</td>\n",
       "      <td>398.000000</td>\n",
       "      <td>398.000000</td>\n",
       "    </tr>\n",
       "    <tr>\n",
       "      <th>mean</th>\n",
       "      <td>23.514573</td>\n",
       "      <td>5.454774</td>\n",
       "      <td>193.425879</td>\n",
       "      <td>104.469388</td>\n",
       "      <td>2970.424623</td>\n",
       "      <td>15.568090</td>\n",
       "      <td>76.010050</td>\n",
       "    </tr>\n",
       "    <tr>\n",
       "      <th>std</th>\n",
       "      <td>7.815984</td>\n",
       "      <td>1.701004</td>\n",
       "      <td>104.269838</td>\n",
       "      <td>38.491160</td>\n",
       "      <td>846.841774</td>\n",
       "      <td>2.757689</td>\n",
       "      <td>3.697627</td>\n",
       "    </tr>\n",
       "    <tr>\n",
       "      <th>min</th>\n",
       "      <td>9.000000</td>\n",
       "      <td>3.000000</td>\n",
       "      <td>68.000000</td>\n",
       "      <td>46.000000</td>\n",
       "      <td>1613.000000</td>\n",
       "      <td>8.000000</td>\n",
       "      <td>70.000000</td>\n",
       "    </tr>\n",
       "    <tr>\n",
       "      <th>25%</th>\n",
       "      <td>17.500000</td>\n",
       "      <td>4.000000</td>\n",
       "      <td>104.250000</td>\n",
       "      <td>75.000000</td>\n",
       "      <td>2223.750000</td>\n",
       "      <td>13.825000</td>\n",
       "      <td>73.000000</td>\n",
       "    </tr>\n",
       "    <tr>\n",
       "      <th>50%</th>\n",
       "      <td>23.000000</td>\n",
       "      <td>4.000000</td>\n",
       "      <td>148.500000</td>\n",
       "      <td>93.500000</td>\n",
       "      <td>2803.500000</td>\n",
       "      <td>15.500000</td>\n",
       "      <td>76.000000</td>\n",
       "    </tr>\n",
       "    <tr>\n",
       "      <th>75%</th>\n",
       "      <td>29.000000</td>\n",
       "      <td>8.000000</td>\n",
       "      <td>262.000000</td>\n",
       "      <td>126.000000</td>\n",
       "      <td>3608.000000</td>\n",
       "      <td>17.175000</td>\n",
       "      <td>79.000000</td>\n",
       "    </tr>\n",
       "    <tr>\n",
       "      <th>max</th>\n",
       "      <td>46.600000</td>\n",
       "      <td>8.000000</td>\n",
       "      <td>455.000000</td>\n",
       "      <td>230.000000</td>\n",
       "      <td>5140.000000</td>\n",
       "      <td>24.800000</td>\n",
       "      <td>82.000000</td>\n",
       "    </tr>\n",
       "  </tbody>\n",
       "</table>\n",
       "</div>"
      ],
      "text/plain": [
       "              mpg   cylinders  displacement  horsepower       weight  \\\n",
       "count  398.000000  398.000000    398.000000  392.000000   398.000000   \n",
       "mean    23.514573    5.454774    193.425879  104.469388  2970.424623   \n",
       "std      7.815984    1.701004    104.269838   38.491160   846.841774   \n",
       "min      9.000000    3.000000     68.000000   46.000000  1613.000000   \n",
       "25%     17.500000    4.000000    104.250000   75.000000  2223.750000   \n",
       "50%     23.000000    4.000000    148.500000   93.500000  2803.500000   \n",
       "75%     29.000000    8.000000    262.000000  126.000000  3608.000000   \n",
       "max     46.600000    8.000000    455.000000  230.000000  5140.000000   \n",
       "\n",
       "       acceleration  model_year  \n",
       "count    398.000000  398.000000  \n",
       "mean      15.568090   76.010050  \n",
       "std        2.757689    3.697627  \n",
       "min        8.000000   70.000000  \n",
       "25%       13.825000   73.000000  \n",
       "50%       15.500000   76.000000  \n",
       "75%       17.175000   79.000000  \n",
       "max       24.800000   82.000000  "
      ]
     },
     "execution_count": 9,
     "metadata": {},
     "output_type": "execute_result"
    }
   ],
   "source": [
    "df.describe()"
   ]
  },
  {
   "cell_type": "code",
   "execution_count": 10,
   "id": "db004554",
   "metadata": {
    "execution": {
     "iopub.execute_input": "2023-09-08T14:22:34.137010Z",
     "iopub.status.busy": "2023-09-08T14:22:34.135146Z",
     "iopub.status.idle": "2023-09-08T14:22:34.160974Z",
     "shell.execute_reply": "2023-09-08T14:22:34.158960Z"
    },
    "papermill": {
     "duration": 0.053674,
     "end_time": "2023-09-08T14:22:34.163800",
     "exception": false,
     "start_time": "2023-09-08T14:22:34.110126",
     "status": "completed"
    },
    "tags": []
   },
   "outputs": [
    {
     "name": "stderr",
     "output_type": "stream",
     "text": [
      "/tmp/ipykernel_20/1134722465.py:1: FutureWarning: The default value of numeric_only in DataFrame.corr is deprecated. In a future version, it will default to False. Select only valid columns or specify the value of numeric_only to silence this warning.\n",
      "  df.corr()\n"
     ]
    },
    {
     "data": {
      "text/html": [
       "<div>\n",
       "<style scoped>\n",
       "    .dataframe tbody tr th:only-of-type {\n",
       "        vertical-align: middle;\n",
       "    }\n",
       "\n",
       "    .dataframe tbody tr th {\n",
       "        vertical-align: top;\n",
       "    }\n",
       "\n",
       "    .dataframe thead th {\n",
       "        text-align: right;\n",
       "    }\n",
       "</style>\n",
       "<table border=\"1\" class=\"dataframe\">\n",
       "  <thead>\n",
       "    <tr style=\"text-align: right;\">\n",
       "      <th></th>\n",
       "      <th>mpg</th>\n",
       "      <th>cylinders</th>\n",
       "      <th>displacement</th>\n",
       "      <th>horsepower</th>\n",
       "      <th>weight</th>\n",
       "      <th>acceleration</th>\n",
       "      <th>model_year</th>\n",
       "    </tr>\n",
       "  </thead>\n",
       "  <tbody>\n",
       "    <tr>\n",
       "      <th>mpg</th>\n",
       "      <td>1.000000</td>\n",
       "      <td>-0.775396</td>\n",
       "      <td>-0.804203</td>\n",
       "      <td>-0.778427</td>\n",
       "      <td>-0.831741</td>\n",
       "      <td>0.420289</td>\n",
       "      <td>0.579267</td>\n",
       "    </tr>\n",
       "    <tr>\n",
       "      <th>cylinders</th>\n",
       "      <td>-0.775396</td>\n",
       "      <td>1.000000</td>\n",
       "      <td>0.950721</td>\n",
       "      <td>0.842983</td>\n",
       "      <td>0.896017</td>\n",
       "      <td>-0.505419</td>\n",
       "      <td>-0.348746</td>\n",
       "    </tr>\n",
       "    <tr>\n",
       "      <th>displacement</th>\n",
       "      <td>-0.804203</td>\n",
       "      <td>0.950721</td>\n",
       "      <td>1.000000</td>\n",
       "      <td>0.897257</td>\n",
       "      <td>0.932824</td>\n",
       "      <td>-0.543684</td>\n",
       "      <td>-0.370164</td>\n",
       "    </tr>\n",
       "    <tr>\n",
       "      <th>horsepower</th>\n",
       "      <td>-0.778427</td>\n",
       "      <td>0.842983</td>\n",
       "      <td>0.897257</td>\n",
       "      <td>1.000000</td>\n",
       "      <td>0.864538</td>\n",
       "      <td>-0.689196</td>\n",
       "      <td>-0.416361</td>\n",
       "    </tr>\n",
       "    <tr>\n",
       "      <th>weight</th>\n",
       "      <td>-0.831741</td>\n",
       "      <td>0.896017</td>\n",
       "      <td>0.932824</td>\n",
       "      <td>0.864538</td>\n",
       "      <td>1.000000</td>\n",
       "      <td>-0.417457</td>\n",
       "      <td>-0.306564</td>\n",
       "    </tr>\n",
       "    <tr>\n",
       "      <th>acceleration</th>\n",
       "      <td>0.420289</td>\n",
       "      <td>-0.505419</td>\n",
       "      <td>-0.543684</td>\n",
       "      <td>-0.689196</td>\n",
       "      <td>-0.417457</td>\n",
       "      <td>1.000000</td>\n",
       "      <td>0.288137</td>\n",
       "    </tr>\n",
       "    <tr>\n",
       "      <th>model_year</th>\n",
       "      <td>0.579267</td>\n",
       "      <td>-0.348746</td>\n",
       "      <td>-0.370164</td>\n",
       "      <td>-0.416361</td>\n",
       "      <td>-0.306564</td>\n",
       "      <td>0.288137</td>\n",
       "      <td>1.000000</td>\n",
       "    </tr>\n",
       "  </tbody>\n",
       "</table>\n",
       "</div>"
      ],
      "text/plain": [
       "                   mpg  cylinders  displacement  horsepower    weight  \\\n",
       "mpg           1.000000  -0.775396     -0.804203   -0.778427 -0.831741   \n",
       "cylinders    -0.775396   1.000000      0.950721    0.842983  0.896017   \n",
       "displacement -0.804203   0.950721      1.000000    0.897257  0.932824   \n",
       "horsepower   -0.778427   0.842983      0.897257    1.000000  0.864538   \n",
       "weight       -0.831741   0.896017      0.932824    0.864538  1.000000   \n",
       "acceleration  0.420289  -0.505419     -0.543684   -0.689196 -0.417457   \n",
       "model_year    0.579267  -0.348746     -0.370164   -0.416361 -0.306564   \n",
       "\n",
       "              acceleration  model_year  \n",
       "mpg               0.420289    0.579267  \n",
       "cylinders        -0.505419   -0.348746  \n",
       "displacement     -0.543684   -0.370164  \n",
       "horsepower       -0.689196   -0.416361  \n",
       "weight           -0.417457   -0.306564  \n",
       "acceleration      1.000000    0.288137  \n",
       "model_year        0.288137    1.000000  "
      ]
     },
     "execution_count": 10,
     "metadata": {},
     "output_type": "execute_result"
    }
   ],
   "source": [
    "df.corr()"
   ]
  },
  {
   "cell_type": "code",
   "execution_count": 11,
   "id": "bcc97c99",
   "metadata": {
    "execution": {
     "iopub.execute_input": "2023-09-08T14:22:34.204769Z",
     "iopub.status.busy": "2023-09-08T14:22:34.204321Z",
     "iopub.status.idle": "2023-09-08T14:22:34.212429Z",
     "shell.execute_reply": "2023-09-08T14:22:34.211008Z"
    },
    "papermill": {
     "duration": 0.031506,
     "end_time": "2023-09-08T14:22:34.214837",
     "exception": false,
     "start_time": "2023-09-08T14:22:34.183331",
     "status": "completed"
    },
    "tags": []
   },
   "outputs": [],
   "source": [
    "df=df.dropna()"
   ]
  },
  {
   "cell_type": "code",
   "execution_count": 12,
   "id": "b0700600",
   "metadata": {
    "execution": {
     "iopub.execute_input": "2023-09-08T14:22:34.257245Z",
     "iopub.status.busy": "2023-09-08T14:22:34.255813Z",
     "iopub.status.idle": "2023-09-08T14:22:34.269266Z",
     "shell.execute_reply": "2023-09-08T14:22:34.268397Z"
    },
    "papermill": {
     "duration": 0.036897,
     "end_time": "2023-09-08T14:22:34.272098",
     "exception": false,
     "start_time": "2023-09-08T14:22:34.235201",
     "status": "completed"
    },
    "tags": []
   },
   "outputs": [
    {
     "name": "stdout",
     "output_type": "stream",
     "text": [
      "<class 'pandas.core.frame.DataFrame'>\n",
      "Int64Index: 392 entries, 0 to 397\n",
      "Data columns (total 9 columns):\n",
      " #   Column        Non-Null Count  Dtype  \n",
      "---  ------        --------------  -----  \n",
      " 0   mpg           392 non-null    float64\n",
      " 1   cylinders     392 non-null    int64  \n",
      " 2   displacement  392 non-null    float64\n",
      " 3   horsepower    392 non-null    float64\n",
      " 4   weight        392 non-null    int64  \n",
      " 5   acceleration  392 non-null    float64\n",
      " 6   model_year    392 non-null    int64  \n",
      " 7   origin        392 non-null    object \n",
      " 8   name          392 non-null    object \n",
      "dtypes: float64(4), int64(3), object(2)\n",
      "memory usage: 30.6+ KB\n"
     ]
    }
   ],
   "source": [
    "df.info()"
   ]
  },
  {
   "cell_type": "code",
   "execution_count": 13,
   "id": "b4e0435a",
   "metadata": {
    "execution": {
     "iopub.execute_input": "2023-09-08T14:22:34.313184Z",
     "iopub.status.busy": "2023-09-08T14:22:34.312501Z",
     "iopub.status.idle": "2023-09-08T14:22:38.016096Z",
     "shell.execute_reply": "2023-09-08T14:22:38.014117Z"
    },
    "papermill": {
     "duration": 3.72665,
     "end_time": "2023-09-08T14:22:38.018237",
     "exception": true,
     "start_time": "2023-09-08T14:22:34.291587",
     "status": "failed"
    },
    "tags": []
   },
   "outputs": [
    {
     "ename": "KeyError",
     "evalue": "\"['horsepawer'] not in index\"",
     "output_type": "error",
     "traceback": [
      "\u001b[0;31m---------------------------------------------------------------------------\u001b[0m",
      "\u001b[0;31mKeyError\u001b[0m                                  Traceback (most recent call last)",
      "Cell \u001b[0;32mIn[13], line 1\u001b[0m\n\u001b[0;32m----> 1\u001b[0m \u001b[43msns\u001b[49m\u001b[38;5;241;43m.\u001b[39;49m\u001b[43mpairplot\u001b[49m\u001b[43m(\u001b[49m\u001b[43mdf\u001b[49m\u001b[43m,\u001b[49m\u001b[43mx_vars\u001b[49m\u001b[38;5;241;43m=\u001b[39;49m\u001b[43m[\u001b[49m\u001b[38;5;124;43m'\u001b[39;49m\u001b[38;5;124;43mdisplacement\u001b[39;49m\u001b[38;5;124;43m'\u001b[39;49m\u001b[43m,\u001b[49m\u001b[38;5;124;43m'\u001b[39;49m\u001b[38;5;124;43mhorsepawer\u001b[39;49m\u001b[38;5;124;43m'\u001b[39;49m\u001b[43m,\u001b[49m\u001b[38;5;124;43m'\u001b[39;49m\u001b[38;5;124;43mweight\u001b[39;49m\u001b[38;5;124;43m'\u001b[39;49m\u001b[43m,\u001b[49m\u001b[38;5;124;43m'\u001b[39;49m\u001b[38;5;124;43macceleration\u001b[39;49m\u001b[38;5;124;43m'\u001b[39;49m\u001b[43m,\u001b[49m\u001b[38;5;124;43m'\u001b[39;49m\u001b[38;5;124;43mmpg\u001b[39;49m\u001b[38;5;124;43m'\u001b[39;49m\u001b[43m]\u001b[49m\u001b[43m,\u001b[49m\u001b[43my_vars\u001b[49m\u001b[38;5;241;43m=\u001b[39;49m\u001b[43m[\u001b[49m\u001b[38;5;124;43m'\u001b[39;49m\u001b[38;5;124;43mmpg\u001b[39;49m\u001b[38;5;124;43m'\u001b[39;49m\u001b[43m]\u001b[49m\u001b[43m)\u001b[49m\n",
      "File \u001b[0;32m/opt/conda/lib/python3.10/site-packages/seaborn/axisgrid.py:2158\u001b[0m, in \u001b[0;36mpairplot\u001b[0;34m(data, hue, hue_order, palette, vars, x_vars, y_vars, kind, diag_kind, markers, height, aspect, corner, dropna, plot_kws, diag_kws, grid_kws, size)\u001b[0m\n\u001b[1;32m   2156\u001b[0m \u001b[38;5;28;01mif\u001b[39;00m kind \u001b[38;5;241m==\u001b[39m \u001b[38;5;124m\"\u001b[39m\u001b[38;5;124mscatter\u001b[39m\u001b[38;5;124m\"\u001b[39m:\n\u001b[1;32m   2157\u001b[0m     \u001b[38;5;28;01mfrom\u001b[39;00m \u001b[38;5;21;01m.\u001b[39;00m\u001b[38;5;21;01mrelational\u001b[39;00m \u001b[38;5;28;01mimport\u001b[39;00m scatterplot  \u001b[38;5;66;03m# Avoid circular import\u001b[39;00m\n\u001b[0;32m-> 2158\u001b[0m     \u001b[43mplotter\u001b[49m\u001b[43m(\u001b[49m\u001b[43mscatterplot\u001b[49m\u001b[43m,\u001b[49m\u001b[43m \u001b[49m\u001b[38;5;241;43m*\u001b[39;49m\u001b[38;5;241;43m*\u001b[39;49m\u001b[43mplot_kws\u001b[49m\u001b[43m)\u001b[49m\n\u001b[1;32m   2159\u001b[0m \u001b[38;5;28;01melif\u001b[39;00m kind \u001b[38;5;241m==\u001b[39m \u001b[38;5;124m\"\u001b[39m\u001b[38;5;124mreg\u001b[39m\u001b[38;5;124m\"\u001b[39m:\n\u001b[1;32m   2160\u001b[0m     \u001b[38;5;28;01mfrom\u001b[39;00m \u001b[38;5;21;01m.\u001b[39;00m\u001b[38;5;21;01mregression\u001b[39;00m \u001b[38;5;28;01mimport\u001b[39;00m regplot  \u001b[38;5;66;03m# Avoid circular import\u001b[39;00m\n",
      "File \u001b[0;32m/opt/conda/lib/python3.10/site-packages/seaborn/axisgrid.py:1428\u001b[0m, in \u001b[0;36mPairGrid.map_offdiag\u001b[0;34m(self, func, **kwargs)\u001b[0m\n\u001b[1;32m   1426\u001b[0m             \u001b[38;5;28;01mif\u001b[39;00m x_var \u001b[38;5;241m!=\u001b[39m y_var:\n\u001b[1;32m   1427\u001b[0m                 indices\u001b[38;5;241m.\u001b[39mappend((i, j))\n\u001b[0;32m-> 1428\u001b[0m     \u001b[38;5;28;43mself\u001b[39;49m\u001b[38;5;241;43m.\u001b[39;49m\u001b[43m_map_bivariate\u001b[49m\u001b[43m(\u001b[49m\u001b[43mfunc\u001b[49m\u001b[43m,\u001b[49m\u001b[43m \u001b[49m\u001b[43mindices\u001b[49m\u001b[43m,\u001b[49m\u001b[43m \u001b[49m\u001b[38;5;241;43m*\u001b[39;49m\u001b[38;5;241;43m*\u001b[39;49m\u001b[43mkwargs\u001b[49m\u001b[43m)\u001b[49m\n\u001b[1;32m   1429\u001b[0m \u001b[38;5;28;01mreturn\u001b[39;00m \u001b[38;5;28mself\u001b[39m\n",
      "File \u001b[0;32m/opt/conda/lib/python3.10/site-packages/seaborn/axisgrid.py:1568\u001b[0m, in \u001b[0;36mPairGrid._map_bivariate\u001b[0;34m(self, func, indices, **kwargs)\u001b[0m\n\u001b[1;32m   1566\u001b[0m     \u001b[38;5;28;01mif\u001b[39;00m ax \u001b[38;5;129;01mis\u001b[39;00m \u001b[38;5;28;01mNone\u001b[39;00m:  \u001b[38;5;66;03m# i.e. we are in corner mode\u001b[39;00m\n\u001b[1;32m   1567\u001b[0m         \u001b[38;5;28;01mcontinue\u001b[39;00m\n\u001b[0;32m-> 1568\u001b[0m     \u001b[38;5;28;43mself\u001b[39;49m\u001b[38;5;241;43m.\u001b[39;49m\u001b[43m_plot_bivariate\u001b[49m\u001b[43m(\u001b[49m\u001b[43mx_var\u001b[49m\u001b[43m,\u001b[49m\u001b[43m \u001b[49m\u001b[43my_var\u001b[49m\u001b[43m,\u001b[49m\u001b[43m \u001b[49m\u001b[43max\u001b[49m\u001b[43m,\u001b[49m\u001b[43m \u001b[49m\u001b[43mfunc\u001b[49m\u001b[43m,\u001b[49m\u001b[43m \u001b[49m\u001b[38;5;241;43m*\u001b[39;49m\u001b[38;5;241;43m*\u001b[39;49m\u001b[43mkws\u001b[49m\u001b[43m)\u001b[49m\n\u001b[1;32m   1569\u001b[0m \u001b[38;5;28mself\u001b[39m\u001b[38;5;241m.\u001b[39m_add_axis_labels()\n\u001b[1;32m   1571\u001b[0m \u001b[38;5;28;01mif\u001b[39;00m \u001b[38;5;124m\"\u001b[39m\u001b[38;5;124mhue\u001b[39m\u001b[38;5;124m\"\u001b[39m \u001b[38;5;129;01min\u001b[39;00m signature(func)\u001b[38;5;241m.\u001b[39mparameters:\n",
      "File \u001b[0;32m/opt/conda/lib/python3.10/site-packages/seaborn/axisgrid.py:1594\u001b[0m, in \u001b[0;36mPairGrid._plot_bivariate\u001b[0;34m(self, x_var, y_var, ax, func, **kwargs)\u001b[0m\n\u001b[1;32m   1591\u001b[0m \u001b[38;5;28;01mif\u001b[39;00m \u001b[38;5;28mself\u001b[39m\u001b[38;5;241m.\u001b[39m_hue_var \u001b[38;5;129;01mis\u001b[39;00m \u001b[38;5;129;01mnot\u001b[39;00m \u001b[38;5;28;01mNone\u001b[39;00m \u001b[38;5;129;01mand\u001b[39;00m \u001b[38;5;28mself\u001b[39m\u001b[38;5;241m.\u001b[39m_hue_var \u001b[38;5;129;01mnot\u001b[39;00m \u001b[38;5;129;01min\u001b[39;00m axes_vars:\n\u001b[1;32m   1592\u001b[0m     axes_vars\u001b[38;5;241m.\u001b[39mappend(\u001b[38;5;28mself\u001b[39m\u001b[38;5;241m.\u001b[39m_hue_var)\n\u001b[0;32m-> 1594\u001b[0m data \u001b[38;5;241m=\u001b[39m \u001b[38;5;28;43mself\u001b[39;49m\u001b[38;5;241;43m.\u001b[39;49m\u001b[43mdata\u001b[49m\u001b[43m[\u001b[49m\u001b[43maxes_vars\u001b[49m\u001b[43m]\u001b[49m\n\u001b[1;32m   1595\u001b[0m \u001b[38;5;28;01mif\u001b[39;00m \u001b[38;5;28mself\u001b[39m\u001b[38;5;241m.\u001b[39m_dropna:\n\u001b[1;32m   1596\u001b[0m     data \u001b[38;5;241m=\u001b[39m data\u001b[38;5;241m.\u001b[39mdropna()\n",
      "File \u001b[0;32m/opt/conda/lib/python3.10/site-packages/pandas/core/frame.py:3813\u001b[0m, in \u001b[0;36mDataFrame.__getitem__\u001b[0;34m(self, key)\u001b[0m\n\u001b[1;32m   3811\u001b[0m     \u001b[38;5;28;01mif\u001b[39;00m is_iterator(key):\n\u001b[1;32m   3812\u001b[0m         key \u001b[38;5;241m=\u001b[39m \u001b[38;5;28mlist\u001b[39m(key)\n\u001b[0;32m-> 3813\u001b[0m     indexer \u001b[38;5;241m=\u001b[39m \u001b[38;5;28;43mself\u001b[39;49m\u001b[38;5;241;43m.\u001b[39;49m\u001b[43mcolumns\u001b[49m\u001b[38;5;241;43m.\u001b[39;49m\u001b[43m_get_indexer_strict\u001b[49m\u001b[43m(\u001b[49m\u001b[43mkey\u001b[49m\u001b[43m,\u001b[49m\u001b[43m \u001b[49m\u001b[38;5;124;43m\"\u001b[39;49m\u001b[38;5;124;43mcolumns\u001b[39;49m\u001b[38;5;124;43m\"\u001b[39;49m\u001b[43m)\u001b[49m[\u001b[38;5;241m1\u001b[39m]\n\u001b[1;32m   3815\u001b[0m \u001b[38;5;66;03m# take() does not accept boolean indexers\u001b[39;00m\n\u001b[1;32m   3816\u001b[0m \u001b[38;5;28;01mif\u001b[39;00m \u001b[38;5;28mgetattr\u001b[39m(indexer, \u001b[38;5;124m\"\u001b[39m\u001b[38;5;124mdtype\u001b[39m\u001b[38;5;124m\"\u001b[39m, \u001b[38;5;28;01mNone\u001b[39;00m) \u001b[38;5;241m==\u001b[39m \u001b[38;5;28mbool\u001b[39m:\n",
      "File \u001b[0;32m/opt/conda/lib/python3.10/site-packages/pandas/core/indexes/base.py:6070\u001b[0m, in \u001b[0;36mIndex._get_indexer_strict\u001b[0;34m(self, key, axis_name)\u001b[0m\n\u001b[1;32m   6067\u001b[0m \u001b[38;5;28;01melse\u001b[39;00m:\n\u001b[1;32m   6068\u001b[0m     keyarr, indexer, new_indexer \u001b[38;5;241m=\u001b[39m \u001b[38;5;28mself\u001b[39m\u001b[38;5;241m.\u001b[39m_reindex_non_unique(keyarr)\n\u001b[0;32m-> 6070\u001b[0m \u001b[38;5;28;43mself\u001b[39;49m\u001b[38;5;241;43m.\u001b[39;49m\u001b[43m_raise_if_missing\u001b[49m\u001b[43m(\u001b[49m\u001b[43mkeyarr\u001b[49m\u001b[43m,\u001b[49m\u001b[43m \u001b[49m\u001b[43mindexer\u001b[49m\u001b[43m,\u001b[49m\u001b[43m \u001b[49m\u001b[43maxis_name\u001b[49m\u001b[43m)\u001b[49m\n\u001b[1;32m   6072\u001b[0m keyarr \u001b[38;5;241m=\u001b[39m \u001b[38;5;28mself\u001b[39m\u001b[38;5;241m.\u001b[39mtake(indexer)\n\u001b[1;32m   6073\u001b[0m \u001b[38;5;28;01mif\u001b[39;00m \u001b[38;5;28misinstance\u001b[39m(key, Index):\n\u001b[1;32m   6074\u001b[0m     \u001b[38;5;66;03m# GH 42790 - Preserve name from an Index\u001b[39;00m\n",
      "File \u001b[0;32m/opt/conda/lib/python3.10/site-packages/pandas/core/indexes/base.py:6133\u001b[0m, in \u001b[0;36mIndex._raise_if_missing\u001b[0;34m(self, key, indexer, axis_name)\u001b[0m\n\u001b[1;32m   6130\u001b[0m     \u001b[38;5;28;01mraise\u001b[39;00m \u001b[38;5;167;01mKeyError\u001b[39;00m(\u001b[38;5;124mf\u001b[39m\u001b[38;5;124m\"\u001b[39m\u001b[38;5;124mNone of [\u001b[39m\u001b[38;5;132;01m{\u001b[39;00mkey\u001b[38;5;132;01m}\u001b[39;00m\u001b[38;5;124m] are in the [\u001b[39m\u001b[38;5;132;01m{\u001b[39;00maxis_name\u001b[38;5;132;01m}\u001b[39;00m\u001b[38;5;124m]\u001b[39m\u001b[38;5;124m\"\u001b[39m)\n\u001b[1;32m   6132\u001b[0m not_found \u001b[38;5;241m=\u001b[39m \u001b[38;5;28mlist\u001b[39m(ensure_index(key)[missing_mask\u001b[38;5;241m.\u001b[39mnonzero()[\u001b[38;5;241m0\u001b[39m]]\u001b[38;5;241m.\u001b[39munique())\n\u001b[0;32m-> 6133\u001b[0m \u001b[38;5;28;01mraise\u001b[39;00m \u001b[38;5;167;01mKeyError\u001b[39;00m(\u001b[38;5;124mf\u001b[39m\u001b[38;5;124m\"\u001b[39m\u001b[38;5;132;01m{\u001b[39;00mnot_found\u001b[38;5;132;01m}\u001b[39;00m\u001b[38;5;124m not in index\u001b[39m\u001b[38;5;124m\"\u001b[39m)\n",
      "\u001b[0;31mKeyError\u001b[0m: \"['horsepawer'] not in index\""
     ]
    },
    {
     "data": {
      "image/png": "[encoded data removed]",
      "text/plain": [
       "<Figure size 1250x250 with 6 Axes>"
      ]
     },
     "metadata": {},
     "output_type": "display_data"
    }
   ],
   "source": [
    "sns.pairplot(df,x_vars=['displacement','horsepawer','weight','acceleration','mpg'],y_vars=['mpg'])"
   ]
  },
  {
   "cell_type": "code",
   "execution_count": null,
   "id": "7685f0f6",
   "metadata": {
    "execution": {
     "iopub.execute_input": "2023-08-31T00:55:04.539397Z",
     "iopub.status.busy": "2023-08-31T00:55:04.538896Z",
     "iopub.status.idle": "2023-08-31T00:55:04.688835Z",
     "shell.execute_reply": "2023-08-31T00:55:04.686608Z",
     "shell.execute_reply.started": "2023-08-31T00:55:04.539360Z"
    },
    "papermill": {
     "duration": null,
     "end_time": null,
     "exception": null,
     "start_time": null,
     "status": "pending"
    },
    "tags": []
   },
   "outputs": [],
   "source": [
    "sns.regplot(x=['displacement'],y=['mpg'],data=df)"
   ]
  },
  {
   "cell_type": "code",
   "execution_count": null,
   "id": "2bfde240",
   "metadata": {
    "execution": {
     "iopub.execute_input": "2023-08-31T00:56:02.780522Z",
     "iopub.status.busy": "2023-08-31T00:56:02.780061Z",
     "iopub.status.idle": "2023-08-31T00:56:02.789518Z",
     "shell.execute_reply": "2023-08-31T00:56:02.788027Z",
     "shell.execute_reply.started": "2023-08-31T00:56:02.780464Z"
    },
    "papermill": {
     "duration": null,
     "end_time": null,
     "exception": null,
     "start_time": null,
     "status": "pending"
    },
    "tags": []
   },
   "outputs": [],
   "source": [
    "df.columns"
   ]
  },
  {
   "cell_type": "code",
   "execution_count": null,
   "id": "963f4f21",
   "metadata": {
    "execution": {
     "iopub.execute_input": "2023-08-31T00:56:32.349111Z",
     "iopub.status.busy": "2023-08-31T00:56:32.348577Z",
     "iopub.status.idle": "2023-08-31T00:56:32.355844Z",
     "shell.execute_reply": "2023-08-31T00:56:32.354142Z",
     "shell.execute_reply.started": "2023-08-31T00:56:32.349074Z"
    },
    "papermill": {
     "duration": null,
     "end_time": null,
     "exception": null,
     "start_time": null,
     "status": "pending"
    },
    "tags": []
   },
   "outputs": [],
   "source": [
    "y=df['mpg']"
   ]
  },
  {
   "cell_type": "code",
   "execution_count": null,
   "id": "10c5c7c0",
   "metadata": {
    "execution": {
     "iopub.execute_input": "2023-08-31T00:57:07.161993Z",
     "iopub.status.busy": "2023-08-31T00:57:07.160297Z",
     "iopub.status.idle": "2023-08-31T00:57:07.169252Z",
     "shell.execute_reply": "2023-08-31T00:57:07.168206Z",
     "shell.execute_reply.started": "2023-08-31T00:57:07.161943Z"
    },
    "papermill": {
     "duration": null,
     "end_time": null,
     "exception": null,
     "start_time": null,
     "status": "pending"
    },
    "tags": []
   },
   "outputs": [],
   "source": [
    "y.shape"
   ]
  },
  {
   "cell_type": "code",
   "execution_count": null,
   "id": "a1e08de3",
   "metadata": {
    "execution": {
     "iopub.execute_input": "2023-08-31T00:58:43.361867Z",
     "iopub.status.busy": "2023-08-31T00:58:43.361364Z",
     "iopub.status.idle": "2023-08-31T00:58:43.370322Z",
     "shell.execute_reply": "2023-08-31T00:58:43.369030Z",
     "shell.execute_reply.started": "2023-08-31T00:58:43.361830Z"
    },
    "papermill": {
     "duration": null,
     "end_time": null,
     "exception": null,
     "start_time": null,
     "status": "pending"
    },
    "tags": []
   },
   "outputs": [],
   "source": [
    "x=df[['displacement','horsepower','weight','acceleration']]"
   ]
  },
  {
   "cell_type": "code",
   "execution_count": null,
   "id": "0ffae0ff",
   "metadata": {
    "execution": {
     "iopub.execute_input": "2023-08-31T00:59:17.074843Z",
     "iopub.status.busy": "2023-08-31T00:59:17.074363Z",
     "iopub.status.idle": "2023-08-31T00:59:17.084026Z",
     "shell.execute_reply": "2023-08-31T00:59:17.082558Z",
     "shell.execute_reply.started": "2023-08-31T00:59:17.074800Z"
    },
    "papermill": {
     "duration": null,
     "end_time": null,
     "exception": null,
     "start_time": null,
     "status": "pending"
    },
    "tags": []
   },
   "outputs": [],
   "source": [
    "x.shape"
   ]
  },
  {
   "cell_type": "code",
   "execution_count": null,
   "id": "8e650655",
   "metadata": {
    "execution": {
     "iopub.execute_input": "2023-08-31T00:59:22.617111Z",
     "iopub.status.busy": "2023-08-31T00:59:22.616676Z",
     "iopub.status.idle": "2023-08-31T00:59:22.637025Z",
     "shell.execute_reply": "2023-08-31T00:59:22.635512Z",
     "shell.execute_reply.started": "2023-08-31T00:59:22.617081Z"
    },
    "papermill": {
     "duration": null,
     "end_time": null,
     "exception": null,
     "start_time": null,
     "status": "pending"
    },
    "tags": []
   },
   "outputs": [],
   "source": [
    "x"
   ]
  },
  {
   "cell_type": "code",
   "execution_count": null,
   "id": "7b428aab",
   "metadata": {
    "execution": {
     "iopub.execute_input": "2023-08-31T01:00:45.370158Z",
     "iopub.status.busy": "2023-08-31T01:00:45.369759Z",
     "iopub.status.idle": "2023-08-31T01:00:45.414811Z",
     "shell.execute_reply": "2023-08-31T01:00:45.413132Z",
     "shell.execute_reply.started": "2023-08-31T01:00:45.370129Z"
    },
    "papermill": {
     "duration": null,
     "end_time": null,
     "exception": null,
     "start_time": null,
     "status": "pending"
    },
    "tags": []
   },
   "outputs": [],
   "source": [
    "from sklearn.preprocessing import StandardScaler"
   ]
  },
  {
   "cell_type": "code",
   "execution_count": null,
   "id": "adcebdb3",
   "metadata": {
    "execution": {
     "iopub.execute_input": "2023-08-31T01:01:04.861605Z",
     "iopub.status.busy": "2023-08-31T01:01:04.861101Z",
     "iopub.status.idle": "2023-08-31T01:01:04.867652Z",
     "shell.execute_reply": "2023-08-31T01:01:04.866298Z",
     "shell.execute_reply.started": "2023-08-31T01:01:04.861570Z"
    },
    "papermill": {
     "duration": null,
     "end_time": null,
     "exception": null,
     "start_time": null,
     "status": "pending"
    },
    "tags": []
   },
   "outputs": [],
   "source": [
    "ss=StandardScaler()"
   ]
  },
  {
   "cell_type": "code",
   "execution_count": null,
   "id": "ab0faa7e",
   "metadata": {
    "execution": {
     "iopub.execute_input": "2023-08-31T01:01:46.878187Z",
     "iopub.status.busy": "2023-08-31T01:01:46.877407Z",
     "iopub.status.idle": "2023-08-31T01:01:46.889700Z",
     "shell.execute_reply": "2023-08-31T01:01:46.886976Z",
     "shell.execute_reply.started": "2023-08-31T01:01:46.878143Z"
    },
    "papermill": {
     "duration": null,
     "end_time": null,
     "exception": null,
     "start_time": null,
     "status": "pending"
    },
    "tags": []
   },
   "outputs": [],
   "source": [
    "x=ss.fit_transform(x)"
   ]
  },
  {
   "cell_type": "code",
   "execution_count": null,
   "id": "ab5500a6",
   "metadata": {
    "execution": {
     "iopub.execute_input": "2023-08-31T01:02:01.462300Z",
     "iopub.status.busy": "2023-08-31T01:02:01.461842Z",
     "iopub.status.idle": "2023-08-31T01:02:01.472046Z",
     "shell.execute_reply": "2023-08-31T01:02:01.470572Z",
     "shell.execute_reply.started": "2023-08-31T01:02:01.462267Z"
    },
    "papermill": {
     "duration": null,
     "end_time": null,
     "exception": null,
     "start_time": null,
     "status": "pending"
    },
    "tags": []
   },
   "outputs": [],
   "source": [
    "x"
   ]
  },
  {
   "cell_type": "code",
   "execution_count": null,
   "id": "f0088916",
   "metadata": {
    "execution": {
     "iopub.execute_input": "2023-08-31T01:03:24.503589Z",
     "iopub.status.busy": "2023-08-31T01:03:24.502983Z",
     "iopub.status.idle": "2023-08-31T01:03:24.542589Z",
     "shell.execute_reply": "2023-08-31T01:03:24.541424Z",
     "shell.execute_reply.started": "2023-08-31T01:03:24.503544Z"
    },
    "papermill": {
     "duration": null,
     "end_time": null,
     "exception": null,
     "start_time": null,
     "status": "pending"
    },
    "tags": []
   },
   "outputs": [],
   "source": [
    "pd.DataFrame(x).describe()"
   ]
  },
  {
   "cell_type": "code",
   "execution_count": null,
   "id": "a3971a59",
   "metadata": {
    "execution": {
     "iopub.execute_input": "2023-08-31T01:04:40.434105Z",
     "iopub.status.busy": "2023-08-31T01:04:40.433630Z",
     "iopub.status.idle": "2023-08-31T01:04:40.560214Z",
     "shell.execute_reply": "2023-08-31T01:04:40.558475Z",
     "shell.execute_reply.started": "2023-08-31T01:04:40.434070Z"
    },
    "papermill": {
     "duration": null,
     "end_time": null,
     "exception": null,
     "start_time": null,
     "status": "pending"
    },
    "tags": []
   },
   "outputs": [],
   "source": [
    "from sklearn.model_selection import train_test_split"
   ]
  },
  {
   "cell_type": "code",
   "execution_count": null,
   "id": "8a12025b",
   "metadata": {
    "execution": {
     "iopub.execute_input": "2023-08-31T01:07:03.749173Z",
     "iopub.status.busy": "2023-08-31T01:07:03.748790Z",
     "iopub.status.idle": "2023-08-31T01:07:03.756163Z",
     "shell.execute_reply": "2023-08-31T01:07:03.755231Z",
     "shell.execute_reply.started": "2023-08-31T01:07:03.749143Z"
    },
    "papermill": {
     "duration": null,
     "end_time": null,
     "exception": null,
     "start_time": null,
     "status": "pending"
    },
    "tags": []
   },
   "outputs": [],
   "source": [
    "x_train,x_test,y_train,y_test=train_test_split(x,y,train_size=0.7,random_state=2529)"
   ]
  },
  {
   "cell_type": "code",
   "execution_count": null,
   "id": "102e7d4f",
   "metadata": {
    "execution": {
     "iopub.execute_input": "2023-08-31T01:08:20.728772Z",
     "iopub.status.busy": "2023-08-31T01:08:20.728251Z",
     "iopub.status.idle": "2023-08-31T01:08:20.738222Z",
     "shell.execute_reply": "2023-08-31T01:08:20.736842Z",
     "shell.execute_reply.started": "2023-08-31T01:08:20.728730Z"
    },
    "papermill": {
     "duration": null,
     "end_time": null,
     "exception": null,
     "start_time": null,
     "status": "pending"
    },
    "tags": []
   },
   "outputs": [],
   "source": [
    "x_train.shape,x_test.shape,y_train.shape,y_test.shape"
   ]
  },
  {
   "cell_type": "code",
   "execution_count": null,
   "id": "fadc32d3",
   "metadata": {
    "execution": {
     "iopub.execute_input": "2023-08-31T01:09:15.139776Z",
     "iopub.status.busy": "2023-08-31T01:09:15.139312Z",
     "iopub.status.idle": "2023-08-31T01:09:15.264420Z",
     "shell.execute_reply": "2023-08-31T01:09:15.262973Z",
     "shell.execute_reply.started": "2023-08-31T01:09:15.139742Z"
    },
    "papermill": {
     "duration": null,
     "end_time": null,
     "exception": null,
     "start_time": null,
     "status": "pending"
    },
    "tags": []
   },
   "outputs": [],
   "source": [
    "from sklearn.linear_model import LinearRegression"
   ]
  },
  {
   "cell_type": "code",
   "execution_count": null,
   "id": "8c04f650",
   "metadata": {
    "execution": {
     "iopub.execute_input": "2023-08-31T01:09:42.711890Z",
     "iopub.status.busy": "2023-08-31T01:09:42.711413Z",
     "iopub.status.idle": "2023-08-31T01:09:42.717344Z",
     "shell.execute_reply": "2023-08-31T01:09:42.716165Z",
     "shell.execute_reply.started": "2023-08-31T01:09:42.711858Z"
    },
    "papermill": {
     "duration": null,
     "end_time": null,
     "exception": null,
     "start_time": null,
     "status": "pending"
    },
    "tags": []
   },
   "outputs": [],
   "source": [
    "lr=LinearRegression()"
   ]
  },
  {
   "cell_type": "code",
   "execution_count": null,
   "id": "5c004547",
   "metadata": {
    "execution": {
     "iopub.execute_input": "2023-08-31T01:10:37.337032Z",
     "iopub.status.busy": "2023-08-31T01:10:37.336607Z",
     "iopub.status.idle": "2023-08-31T01:10:37.375819Z",
     "shell.execute_reply": "2023-08-31T01:10:37.374416Z",
     "shell.execute_reply.started": "2023-08-31T01:10:37.336998Z"
    },
    "papermill": {
     "duration": null,
     "end_time": null,
     "exception": null,
     "start_time": null,
     "status": "pending"
    },
    "tags": []
   },
   "outputs": [],
   "source": [
    "lr.fit(x_train,y_train)"
   ]
  },
  {
   "cell_type": "code",
   "execution_count": null,
   "id": "14e3a90b",
   "metadata": {
    "execution": {
     "iopub.execute_input": "2023-08-31T01:11:01.023801Z",
     "iopub.status.busy": "2023-08-31T01:11:01.023399Z",
     "iopub.status.idle": "2023-08-31T01:11:01.031319Z",
     "shell.execute_reply": "2023-08-31T01:11:01.030004Z",
     "shell.execute_reply.started": "2023-08-31T01:11:01.023770Z"
    },
    "papermill": {
     "duration": null,
     "end_time": null,
     "exception": null,
     "start_time": null,
     "status": "pending"
    },
    "tags": []
   },
   "outputs": [],
   "source": [
    "lr.intercept_"
   ]
  },
  {
   "cell_type": "code",
   "execution_count": null,
   "id": "ceb42e25",
   "metadata": {
    "execution": {
     "iopub.execute_input": "2023-08-31T01:11:43.024901Z",
     "iopub.status.busy": "2023-08-31T01:11:43.023270Z",
     "iopub.status.idle": "2023-08-31T01:11:43.032729Z",
     "shell.execute_reply": "2023-08-31T01:11:43.031092Z",
     "shell.execute_reply.started": "2023-08-31T01:11:43.024846Z"
    },
    "papermill": {
     "duration": null,
     "end_time": null,
     "exception": null,
     "start_time": null,
     "status": "pending"
    },
    "tags": []
   },
   "outputs": [],
   "source": [
    "lr.coef_"
   ]
  },
  {
   "cell_type": "code",
   "execution_count": null,
   "id": "0ba06364",
   "metadata": {
    "execution": {
     "iopub.execute_input": "2023-08-31T01:13:03.477038Z",
     "iopub.status.busy": "2023-08-31T01:13:03.476542Z",
     "iopub.status.idle": "2023-08-31T01:13:03.483675Z",
     "shell.execute_reply": "2023-08-31T01:13:03.482090Z",
     "shell.execute_reply.started": "2023-08-31T01:13:03.477003Z"
    },
    "papermill": {
     "duration": null,
     "end_time": null,
     "exception": null,
     "start_time": null,
     "status": "pending"
    },
    "tags": []
   },
   "outputs": [],
   "source": [
    "y_pred=lr.predict(x_test)"
   ]
  },
  {
   "cell_type": "code",
   "execution_count": null,
   "id": "bc83c9fb",
   "metadata": {
    "execution": {
     "iopub.execute_input": "2023-08-31T01:13:07.950324Z",
     "iopub.status.busy": "2023-08-31T01:13:07.949875Z",
     "iopub.status.idle": "2023-08-31T01:13:07.963451Z",
     "shell.execute_reply": "2023-08-31T01:13:07.962011Z",
     "shell.execute_reply.started": "2023-08-31T01:13:07.950291Z"
    },
    "papermill": {
     "duration": null,
     "end_time": null,
     "exception": null,
     "start_time": null,
     "status": "pending"
    },
    "tags": []
   },
   "outputs": [],
   "source": [
    "y_pred"
   ]
  },
  {
   "cell_type": "code",
   "execution_count": null,
   "id": "8004f620",
   "metadata": {
    "execution": {
     "iopub.execute_input": "2023-08-31T01:15:49.838777Z",
     "iopub.status.busy": "2023-08-31T01:15:49.838274Z",
     "iopub.status.idle": "2023-08-31T01:15:49.844475Z",
     "shell.execute_reply": "2023-08-31T01:15:49.843247Z",
     "shell.execute_reply.started": "2023-08-31T01:15:49.838742Z"
    },
    "papermill": {
     "duration": null,
     "end_time": null,
     "exception": null,
     "start_time": null,
     "status": "pending"
    },
    "tags": []
   },
   "outputs": [],
   "source": [
    "from sklearn.metrics import mean_absolute_error, mean_absolute_percentage_error,r2_score"
   ]
  },
  {
   "cell_type": "code",
   "execution_count": null,
   "id": "21cd697f",
   "metadata": {
    "execution": {
     "iopub.execute_input": "2023-08-31T01:16:34.822335Z",
     "iopub.status.busy": "2023-08-31T01:16:34.821846Z",
     "iopub.status.idle": "2023-08-31T01:16:34.832487Z",
     "shell.execute_reply": "2023-08-31T01:16:34.831137Z",
     "shell.execute_reply.started": "2023-08-31T01:16:34.822299Z"
    },
    "papermill": {
     "duration": null,
     "end_time": null,
     "exception": null,
     "start_time": null,
     "status": "pending"
    },
    "tags": []
   },
   "outputs": [],
   "source": [
    "mean_absolute_error(y_test,y_pred)"
   ]
  },
  {
   "cell_type": "code",
   "execution_count": null,
   "id": "cefc88c1",
   "metadata": {
    "execution": {
     "iopub.execute_input": "2023-08-31T01:16:58.924660Z",
     "iopub.status.busy": "2023-08-31T01:16:58.922799Z",
     "iopub.status.idle": "2023-08-31T01:16:58.933947Z",
     "shell.execute_reply": "2023-08-31T01:16:58.932593Z",
     "shell.execute_reply.started": "2023-08-31T01:16:58.924598Z"
    },
    "papermill": {
     "duration": null,
     "end_time": null,
     "exception": null,
     "start_time": null,
     "status": "pending"
    },
    "tags": []
   },
   "outputs": [],
   "source": [
    "mean_absolute_percentage_error(y_test,y_pred)"
   ]
  },
  {
   "cell_type": "code",
   "execution_count": null,
   "id": "d53cc770",
   "metadata": {
    "execution": {
     "iopub.execute_input": "2023-08-31T01:17:22.429907Z",
     "iopub.status.busy": "2023-08-31T01:17:22.429453Z",
     "iopub.status.idle": "2023-08-31T01:17:22.439567Z",
     "shell.execute_reply": "2023-08-31T01:17:22.437927Z",
     "shell.execute_reply.started": "2023-08-31T01:17:22.429868Z"
    },
    "papermill": {
     "duration": null,
     "end_time": null,
     "exception": null,
     "start_time": null,
     "status": "pending"
    },
    "tags": []
   },
   "outputs": [],
   "source": [
    "r2_score(y_test,y_pred)"
   ]
  },
  {
   "cell_type": "code",
   "execution_count": null,
   "id": "5406a9aa",
   "metadata": {
    "execution": {
     "iopub.execute_input": "2023-08-31T01:18:49.999086Z",
     "iopub.status.busy": "2023-08-31T01:18:49.998668Z",
     "iopub.status.idle": "2023-08-31T01:18:50.005134Z",
     "shell.execute_reply": "2023-08-31T01:18:50.003416Z",
     "shell.execute_reply.started": "2023-08-31T01:18:49.999054Z"
    },
    "papermill": {
     "duration": null,
     "end_time": null,
     "exception": null,
     "start_time": null,
     "status": "pending"
    },
    "tags": []
   },
   "outputs": [],
   "source": [
    "from sklearn.preprocessing import PolynomialFeatures"
   ]
  },
  {
   "cell_type": "code",
   "execution_count": null,
   "id": "332c1d3f",
   "metadata": {
    "execution": {
     "iopub.execute_input": "2023-08-31T01:20:36.427313Z",
     "iopub.status.busy": "2023-08-31T01:20:36.425730Z",
     "iopub.status.idle": "2023-08-31T01:20:36.433966Z",
     "shell.execute_reply": "2023-08-31T01:20:36.432371Z",
     "shell.execute_reply.started": "2023-08-31T01:20:36.427258Z"
    },
    "papermill": {
     "duration": null,
     "end_time": null,
     "exception": null,
     "start_time": null,
     "status": "pending"
    },
    "tags": []
   },
   "outputs": [],
   "source": [
    "poly=PolynomialFeatures(degree=2,interaction_only=True,include_bias=False)"
   ]
  },
  {
   "cell_type": "code",
   "execution_count": null,
   "id": "40c49f02",
   "metadata": {
    "execution": {
     "iopub.execute_input": "2023-08-31T01:21:52.976361Z",
     "iopub.status.busy": "2023-08-31T01:21:52.975838Z",
     "iopub.status.idle": "2023-08-31T01:21:52.983369Z",
     "shell.execute_reply": "2023-08-31T01:21:52.981772Z",
     "shell.execute_reply.started": "2023-08-31T01:21:52.976324Z"
    },
    "papermill": {
     "duration": null,
     "end_time": null,
     "exception": null,
     "start_time": null,
     "status": "pending"
    },
    "tags": []
   },
   "outputs": [],
   "source": [
    "x_train2=poly.fit_transform(x_train)"
   ]
  },
  {
   "cell_type": "code",
   "execution_count": null,
   "id": "06b68780",
   "metadata": {
    "execution": {
     "iopub.execute_input": "2023-08-31T01:22:48.926909Z",
     "iopub.status.busy": "2023-08-31T01:22:48.926418Z",
     "iopub.status.idle": "2023-08-31T01:22:48.934122Z",
     "shell.execute_reply": "2023-08-31T01:22:48.932566Z",
     "shell.execute_reply.started": "2023-08-31T01:22:48.926873Z"
    },
    "papermill": {
     "duration": null,
     "end_time": null,
     "exception": null,
     "start_time": null,
     "status": "pending"
    },
    "tags": []
   },
   "outputs": [],
   "source": [
    "x_test2=poly.fit_transform(x_test)"
   ]
  },
  {
   "cell_type": "code",
   "execution_count": null,
   "id": "615fb4b3",
   "metadata": {
    "execution": {
     "iopub.execute_input": "2023-08-31T01:23:52.890385Z",
     "iopub.status.busy": "2023-08-31T01:23:52.889955Z",
     "iopub.status.idle": "2023-08-31T01:23:52.900729Z",
     "shell.execute_reply": "2023-08-31T01:23:52.899774Z",
     "shell.execute_reply.started": "2023-08-31T01:23:52.890353Z"
    },
    "papermill": {
     "duration": null,
     "end_time": null,
     "exception": null,
     "start_time": null,
     "status": "pending"
    },
    "tags": []
   },
   "outputs": [],
   "source": [
    "lr.fit(x_train2,y_train)"
   ]
  },
  {
   "cell_type": "code",
   "execution_count": null,
   "id": "cb4854ae",
   "metadata": {
    "execution": {
     "iopub.execute_input": "2023-08-31T01:24:06.299901Z",
     "iopub.status.busy": "2023-08-31T01:24:06.299393Z",
     "iopub.status.idle": "2023-08-31T01:24:06.308784Z",
     "shell.execute_reply": "2023-08-31T01:24:06.307432Z",
     "shell.execute_reply.started": "2023-08-31T01:24:06.299865Z"
    },
    "papermill": {
     "duration": null,
     "end_time": null,
     "exception": null,
     "start_time": null,
     "status": "pending"
    },
    "tags": []
   },
   "outputs": [],
   "source": [
    "lr.intercept_"
   ]
  },
  {
   "cell_type": "code",
   "execution_count": null,
   "id": "6c7e8fd4",
   "metadata": {
    "execution": {
     "iopub.execute_input": "2023-08-31T01:24:30.906958Z",
     "iopub.status.busy": "2023-08-31T01:24:30.906476Z",
     "iopub.status.idle": "2023-08-31T01:24:30.915834Z",
     "shell.execute_reply": "2023-08-31T01:24:30.914373Z",
     "shell.execute_reply.started": "2023-08-31T01:24:30.906924Z"
    },
    "papermill": {
     "duration": null,
     "end_time": null,
     "exception": null,
     "start_time": null,
     "status": "pending"
    },
    "tags": []
   },
   "outputs": [],
   "source": [
    "lr.coef_"
   ]
  },
  {
   "cell_type": "code",
   "execution_count": null,
   "id": "46058c3e",
   "metadata": {
    "execution": {
     "iopub.execute_input": "2023-08-31T01:25:43.510808Z",
     "iopub.status.busy": "2023-08-31T01:25:43.510368Z",
     "iopub.status.idle": "2023-08-31T01:25:43.518315Z",
     "shell.execute_reply": "2023-08-31T01:25:43.516584Z",
     "shell.execute_reply.started": "2023-08-31T01:25:43.510776Z"
    },
    "papermill": {
     "duration": null,
     "end_time": null,
     "exception": null,
     "start_time": null,
     "status": "pending"
    },
    "tags": []
   },
   "outputs": [],
   "source": [
    "y_pred_poly=lr.predict(x_test2)"
   ]
  },
  {
   "cell_type": "code",
   "execution_count": null,
   "id": "dadcfa23",
   "metadata": {
    "execution": {
     "iopub.execute_input": "2023-08-31T01:26:45.376543Z",
     "iopub.status.busy": "2023-08-31T01:26:45.376023Z",
     "iopub.status.idle": "2023-08-31T01:26:45.382565Z",
     "shell.execute_reply": "2023-08-31T01:26:45.381448Z",
     "shell.execute_reply.started": "2023-08-31T01:26:45.376490Z"
    },
    "papermill": {
     "duration": null,
     "end_time": null,
     "exception": null,
     "start_time": null,
     "status": "pending"
    },
    "tags": []
   },
   "outputs": [],
   "source": [
    "from sklearn.metrics import mean_absolute_error, mean_absolute_percentage_error,r2_score"
   ]
  },
  {
   "cell_type": "code",
   "execution_count": null,
   "id": "3e38d904",
   "metadata": {
    "execution": {
     "iopub.execute_input": "2023-08-31T01:27:31.432263Z",
     "iopub.status.busy": "2023-08-31T01:27:31.431789Z",
     "iopub.status.idle": "2023-08-31T01:27:31.441912Z",
     "shell.execute_reply": "2023-08-31T01:27:31.440255Z",
     "shell.execute_reply.started": "2023-08-31T01:27:31.432230Z"
    },
    "papermill": {
     "duration": null,
     "end_time": null,
     "exception": null,
     "start_time": null,
     "status": "pending"
    },
    "tags": []
   },
   "outputs": [],
   "source": [
    "mean_absolute_error(y_test,y_pred_poly)"
   ]
  },
  {
   "cell_type": "code",
   "execution_count": null,
   "id": "e79f359b",
   "metadata": {
    "execution": {
     "iopub.execute_input": "2023-08-31T01:27:56.405650Z",
     "iopub.status.busy": "2023-08-31T01:27:56.404435Z",
     "iopub.status.idle": "2023-08-31T01:27:56.414467Z",
     "shell.execute_reply": "2023-08-31T01:27:56.413299Z",
     "shell.execute_reply.started": "2023-08-31T01:27:56.405610Z"
    },
    "papermill": {
     "duration": null,
     "end_time": null,
     "exception": null,
     "start_time": null,
     "status": "pending"
    },
    "tags": []
   },
   "outputs": [],
   "source": [
    "mean_absolute_percentage_error(y_test,y_pred_poly)"
   ]
  },
  {
   "cell_type": "code",
   "execution_count": null,
   "id": "42109f2c",
   "metadata": {
    "execution": {
     "iopub.execute_input": "2023-08-31T01:28:24.347581Z",
     "iopub.status.busy": "2023-08-31T01:28:24.347143Z",
     "iopub.status.idle": "2023-08-31T01:28:24.356673Z",
     "shell.execute_reply": "2023-08-31T01:28:24.355489Z",
     "shell.execute_reply.started": "2023-08-31T01:28:24.347549Z"
    },
    "papermill": {
     "duration": null,
     "end_time": null,
     "exception": null,
     "start_time": null,
     "status": "pending"
    },
    "tags": []
   },
   "outputs": [],
   "source": [
    "r2_score(y_test,y_pred_poly)"
   ]
  }
 ],
 "kernelspec": {
  "display_name": "Python 3",
  "language": "python",
  "name": "python3"
 },
 "language_info": {
  "codemirror_mode": {
   "name": "ipython",
   "version": 3
  },
  "file_extension": ".py",
  "mimetype": "text/x-python",
  "name": "python",
  "nbconvert_exporter": "python",
  "pygments_lexer": "ipython3",
  "version": "3.6.4"
 },
 "metadata": {
  "kernelspec": {
   "display_name": "Python 3",
   "language": "python",
   "name": "python3"
  },
  "language_info": {
   "codemirror_mode": {
    "name": "ipython",
    "version": 3
   },
   "file_extension": ".py",
   "mimetype": "text/x-python",
   "name": "python",
   "nbconvert_exporter": "python",
   "pygments_lexer": "ipython3",
   "version": "3.10.12"
  },
  "papermill": {
   "default_parameters": {},
   "duration": 23.064642,
   "end_time": "2023-09-08T14:22:40.491568",
   "environment_variables": {},
   "exception": true,
   "input_path": "__notebook__.ipynb",
   "output_path": "__notebook__.ipynb",
   "parameters": {},
   "start_time": "2023-09-08T14:22:17.426926",
   "version": "2.4.0"
  }
 },
 "nbformat": 4,
 "nbformat_minor": 5
}
